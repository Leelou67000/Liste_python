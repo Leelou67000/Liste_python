{
  "nbformat": 4,
  "nbformat_minor": 0,
  "metadata": {
    "colab": {
      "provenance": [],
      "authorship_tag": "ABX9TyN+/N8BCEWE5pp999j8G42l",
      "include_colab_link": true
    },
    "kernelspec": {
      "name": "python3",
      "display_name": "Python 3"
    },
    "language_info": {
      "name": "python"
    }
  },
  "cells": [
    {
      "cell_type": "markdown",
      "metadata": {
        "id": "view-in-github",
        "colab_type": "text"
      },
      "source": [
        "<a href=\"https://colab.research.google.com/github/Leelou67000/Liste_python/blob/main/LA_LISTE.ipynb\" target=\"_parent\"><img src=\"https://colab.research.google.com/assets/colab-badge.svg\" alt=\"Open In Colab\"/></a>"
      ]
    },
    {
      "cell_type": "markdown",
      "source": [
        "# **LA LISTE**"
      ],
      "metadata": {
        "id": "r75lRCV10bWq"
      }
    },
    {
      "cell_type": "markdown",
      "source": [
        "Composition :\n",
        "\n",
        "variable = [\"élément1\", \"élément2\", \"élément3\", ...]\n",
        "La variable est composée d'éléments dont l'indice diffère de la position de l'élément.\n",
        "\n",
        "Le premier élément se trouve à :\n",
        "\n",
        "l'indice 0\n",
        "la position 1\n",
        "\n",
        "La liste est :\n",
        "\n",
        "ordonnée\n",
        "modifiable\n",
        "autorise les doublons\n",
        "\n",
        "La liste peut contenir :\n",
        "\n",
        "int (entier)\n",
        "float (nombre à virgule)\n",
        "bool (booléen)\n",
        "liste (liste)\n",
        "dict (dictionnaire)\n",
        "tuple (tuple)\n",
        "ensemble (ensemble)\n",
        "complexe (nombre complexe)\n",
        "\n",
        "Cependant, il est important de noter que la conversion de ces types de données en chaînes de caractères peut entraîner une perte d'information ou de précision, en particulier pour les nombres à virgule flottante et les nombres complexes. De plus, la conversion inverse de chaînes de caractères en types de données peut également entraîner des erreurs si la chaîne n'est pas correctement formatée ou si elle contient des données incorrectes."
      ],
      "metadata": {
        "id": "HFCRvy4N0jWD"
      }
    },
    {
      "cell_type": "markdown",
      "source": [
        "#1/LES BASES"
      ],
      "metadata": {
        "id": "NNLm9Dpy0v8z"
      }
    },
    {
      "cell_type": "code",
      "source": [
        "# CREATION d'une liste avec un constructeur list\n",
        "thislist = list((\"apple\", \"banana\", \"cherry\")) # notez les doubles parenthèses pour entrer les éléments\n",
        "print(thislist) # affiche ['apple', 'banana', 'cherry']"
      ],
      "metadata": {
        "id": "Q0ujWFyJ04_r",
        "colab": {
          "base_uri": "https://localhost:8080/"
        },
        "outputId": "4136e9e3-31a2-4c55-94bd-e9c8cf490a54"
      },
      "execution_count": null,
      "outputs": [
        {
          "output_type": "stream",
          "name": "stdout",
          "text": [
            "['apple', 'banana', 'cherry']\n"
          ]
        }
      ]
    },
    {
      "cell_type": "code",
      "source": [
        "# IMPRIMER\n",
        "# type() renvoie le type de la variable spécifiée\n",
        "mylist = [\"apple\", \"banana\", \"cherry\"]\n",
        "print(type(mylist)) # affiche <class 'list'>"
      ],
      "metadata": {
        "id": "UuYQC-eA1rEw",
        "colab": {
          "base_uri": "https://localhost:8080/"
        },
        "outputId": "04e0352a-238e-4e0e-b0d9-81695e0b89db"
      },
      "execution_count": null,
      "outputs": [
        {
          "output_type": "stream",
          "name": "stdout",
          "text": [
            "<class 'list'>\n"
          ]
        }
      ]
    },
    {
      "cell_type": "code",
      "source": [
        "# imprimer tous les éléments d'une liste\n",
        "mylist = [\"apple\", \"banana\", \"cherry\"]\n",
        "print(mylist) # affiche ['apple', 'banana', 'cherry']"
      ],
      "metadata": {
        "id": "dI9VHeT01wzq",
        "colab": {
          "base_uri": "https://localhost:8080/"
        },
        "outputId": "15274c6e-5c09-4167-f900-51834c336e44"
      },
      "execution_count": null,
      "outputs": [
        {
          "output_type": "stream",
          "name": "stdout",
          "text": [
            "['apple', 'banana', 'cherry']\n"
          ]
        }
      ]
    },
    {
      "cell_type": "code",
      "source": [
        "# boucle for pour parcourir tous les éléments de la liste\n",
        "thislist = [\"apple\", \"banana\", \"cherry\"]\n",
        "for elt in thislist:\n",
        "  print(elt) # imprime tous les éléments de la liste\n",
        "# affiche :\n",
        "# apple\n",
        "# banana\n",
        "# cherry"
      ],
      "metadata": {
        "id": "Iw0ZtzOv182M",
        "colab": {
          "base_uri": "https://localhost:8080/"
        },
        "outputId": "a00c4663-133f-4367-dbf6-f5dfc0e82640"
      },
      "execution_count": null,
      "outputs": [
        {
          "output_type": "stream",
          "name": "stdout",
          "text": [
            "apple\n",
            "banana\n",
            "cherry\n"
          ]
        }
      ]
    },
    {
      "cell_type": "code",
      "source": [
        "# imprimer tous les éléments d'une liste en utilisant une boucle while pour parcourir tous les index\n",
        "thislist = [\"apple\", \"banana\", \"cherry\"]\n",
        "ind = 0 # initialisation du compteur pour éviter une boucle infinie de while\n",
        "while ind < len(thislist): # boucle while qui parcourt les éléments des index en dessous du nombre total d'éléments\n",
        "  print(thislist[ind]) # imprime l'élément de l'index\n",
        "  ind = ind + 1 # compteur avance d'un index après chaque boucle\n",
        "# affiche :\n",
        "# apple\n",
        "# banana\n",
        "# cherry"
      ],
      "metadata": {
        "id": "J1U6WL2r1_8G",
        "colab": {
          "base_uri": "https://localhost:8080/"
        },
        "outputId": "7c2190e4-7b2f-4945-d7fc-0e69c4d6630c"
      },
      "execution_count": null,
      "outputs": [
        {
          "output_type": "stream",
          "name": "stdout",
          "text": [
            "apple\n",
            "banana\n",
            "cherry\n"
          ]
        }
      ]
    },
    {
      "cell_type": "code",
      "source": [
        "# imprimer l'élément d'un index donné\n",
        "x = [\"mintcream\", \"burlywood\", \"salmon\"]\n",
        "print(x[0]) # imprime l'élément à l'index 0\n",
        "# affiche :\n",
        "# mintcream"
      ],
      "metadata": {
        "id": "OhWtazH22C1C",
        "colab": {
          "base_uri": "https://localhost:8080/"
        },
        "outputId": "68a6baf1-704b-4a15-98ea-3addfe6265ba"
      },
      "execution_count": null,
      "outputs": [
        {
          "output_type": "stream",
          "name": "stdout",
          "text": [
            "mintcream\n"
          ]
        }
      ]
    },
    {
      "cell_type": "code",
      "source": [
        "# imprimer les éléments d'une liste selon des conditions fixées\n",
        "# boucle while qui parcourt tous les index pour imprimer tous les éléments\n",
        "mylist = [\"apple\", \"banana\", \"cherry\"]\n",
        "ind = 0 # initialisation du compteur pour éviter une boucle infinie de while\n",
        "while ind < 2: # boucle while qui parcourt les éléments des index en dessous du nombre total d'éléments\n",
        "  print(mylist[ind]) # imprime l'élément de l'index\n",
        "  ind = ind + 1 # compteur avance d'un index après chaque boucle\n",
        "# affiche :\n",
        "# apple\n",
        "# banana"
      ],
      "metadata": {
        "id": "W29ZKb992GBb",
        "colab": {
          "base_uri": "https://localhost:8080/"
        },
        "outputId": "ec0782d6-e505-4e58-83b3-62df09311960"
      },
      "execution_count": null,
      "outputs": [
        {
          "output_type": "stream",
          "name": "stdout",
          "text": [
            "apple\n",
            "banana\n"
          ]
        }
      ]
    },
    {
      "cell_type": "code",
      "source": [
        "# imprimer tous les éléments de la liste avec une boucle for qui parcourt tous les index\n",
        "mylist = [\"apple\", \"banana\", \"cherry\"]\n",
        "for ind in range(len(mylist)): # boucle qui parcourt la totalité des éléments de tous les index notés dans range(len(mylist))\n",
        "  print(mylist[ind]) # imprime tous les éléments de la liste parcourus grâce à la boucle\n",
        "# affiche :\n",
        "# apple\n",
        "# banana\n",
        "# cherry"
      ],
      "metadata": {
        "id": "EpBcTDAM2JFQ",
        "colab": {
          "base_uri": "https://localhost:8080/"
        },
        "outputId": "2f8ecf32-f36a-47f7-ec79-de106b027ea6"
      },
      "execution_count": null,
      "outputs": [
        {
          "output_type": "stream",
          "name": "stdout",
          "text": [
            "apple\n",
            "banana\n",
            "cherry\n"
          ]
        }
      ]
    },
    {
      "cell_type": "code",
      "source": [
        "# imprimer tous les éléments d'un set\n",
        "thislist = [\"apple\", \"banana\", \"cherry\"]\n",
        "for elt in thislist: # boucle for qui parcourt tous les éléments de la liste\n",
        "  print(elt) # imprime tous les éléments de la liste\n",
        "# affiche :\n",
        "# cherry\n",
        "# banana\n",
        "# apple"
      ],
      "metadata": {
        "id": "cWNhXln02L3W",
        "colab": {
          "base_uri": "https://localhost:8080/"
        },
        "outputId": "3a9c68c6-0fa9-4c21-c8df-997771e256f7"
      },
      "execution_count": null,
      "outputs": [
        {
          "output_type": "stream",
          "name": "stdout",
          "text": [
            "apple\n",
            "banana\n",
            "cherry\n"
          ]
        }
      ]
    },
    {
      "cell_type": "code",
      "source": [
        "# 1 element avec index positif\n",
        "\n",
        "# Déclaration de la liste contenant des fruits\n",
        "mylist = [\"apple\", \"banana\", \"cherry\"]\n",
        "\n",
        "# Affichage de l'élément à l'index 1 de la liste\n",
        "print(mylist[1]) # banana"
      ],
      "metadata": {
        "id": "E6yBz5-9-LoX",
        "colab": {
          "base_uri": "https://localhost:8080/"
        },
        "outputId": "ea377142-170e-4ec6-eee9-977b82849d15"
      },
      "execution_count": null,
      "outputs": [
        {
          "output_type": "stream",
          "name": "stdout",
          "text": [
            "banana\n"
          ]
        }
      ]
    },
    {
      "cell_type": "code",
      "source": [
        "# 1 element avec index négatif\n",
        "\n",
        "# Déclaration de la liste contenant des fruits\n",
        "mylist = [\"apple\", \"banana\", \"cherry\"]\n",
        "\n",
        "# Affichage de l'élément à l'index -1 de la liste\n",
        "print(mylist[-1]) # cherry"
      ],
      "metadata": {
        "id": "ftV4cR8N-Ut1",
        "colab": {
          "base_uri": "https://localhost:8080/"
        },
        "outputId": "9db9a89c-7e07-497f-c857-de2a34383c0c"
      },
      "execution_count": null,
      "outputs": [
        {
          "output_type": "stream",
          "name": "stdout",
          "text": [
            "cherry\n"
          ]
        }
      ]
    },
    {
      "cell_type": "code",
      "source": [
        "# Si un element existe dedans\n",
        "\n",
        "# Déclaration de la liste contenant des fruits\n",
        "mylist = [\"apple\", \"banana\", \"cherry\"]"
      ],
      "metadata": {
        "id": "knMkIfPD-ZGC"
      },
      "execution_count": null,
      "outputs": []
    },
    {
      "cell_type": "code",
      "source": [
        "# Vérification si la chaîne \"apple\" existe dans la liste\n",
        "if \"apple\" in mylist:\n",
        "  print(\"Yes, 'apple' is in mylist\") # Yes, 'apple' is in mylist"
      ],
      "metadata": {
        "id": "MXor3lEu-cai",
        "colab": {
          "base_uri": "https://localhost:8080/"
        },
        "outputId": "d9619e31-5e9c-4325-8379-83171a2a6e26"
      },
      "execution_count": null,
      "outputs": [
        {
          "output_type": "stream",
          "name": "stdout",
          "text": [
            "Yes, 'apple' is in mylist\n"
          ]
        }
      ]
    },
    {
      "cell_type": "code",
      "source": [
        "# Si un mot n'existe pas dedans\n",
        "\n",
        "# Déclaration de la liste contenant des fruits\n",
        "mylist = [\"apple\", \"banana\", \"cherry\"]\n",
        "\n",
        "# Vérification si la chaîne \"apple\" existe dans la liste\n",
        "print(\"apple\" in mylist) # True"
      ],
      "metadata": {
        "id": "cKDOKuIe-fZw",
        "colab": {
          "base_uri": "https://localhost:8080/"
        },
        "outputId": "8de57401-5e3e-4578-c865-f086a7956c70"
      },
      "execution_count": null,
      "outputs": [
        {
          "output_type": "stream",
          "name": "stdout",
          "text": [
            "True\n"
          ]
        }
      ]
    },
    {
      "cell_type": "code",
      "source": [
        "# Si un element n'existe pas dedans\n",
        "\n",
        "# Déclaration de la liste contenant des fruits\n",
        "mylist = [\"apple\", \"banana\", \"cherry\"]\n",
        "\n",
        "# Vérification si la chaîne \"apple\" n'existe pas dans la liste\n",
        "print(\"apple\" not in mylist) # False"
      ],
      "metadata": {
        "id": "V21bsIug-iT9",
        "colab": {
          "base_uri": "https://localhost:8080/"
        },
        "outputId": "3093051b-bbdf-4b3b-babf-02d4784cf7b9"
      },
      "execution_count": null,
      "outputs": [
        {
          "output_type": "stream",
          "name": "stdout",
          "text": [
            "False\n"
          ]
        }
      ]
    },
    {
      "cell_type": "markdown",
      "source": [
        "#2/ BASES SUR UNE LISTE CONTENANT PLUSIEURS TYPES#"
      ],
      "metadata": {
        "id": "KmEQjpIp-_KI"
      }
    },
    {
      "cell_type": "code",
      "source": [
        "# Création d'une liste contenant différents types d'éléments\n",
        "my_list = [1, 2, \"three\", \"four\", [5, 6], [7, 8, 9], (10, 11), (12, 13, 14), {15, 16}, {17, 18, 19}, {\"key1\": 20, \"key2\": 21}, {\"key3\": 22, \"key4\": 23, \"key5\": 24}]\n",
        "\n",
        "# Accès à un élément d'un chiffre\n",
        "print(my_list[0])  # 1\n",
        "\n",
        "# Accès à un élément d'une chaîne de caractères\n",
        "print(my_list[2])  # three\n",
        "\n",
        "# Accès à un élément d'une liste\n",
        "print(my_list[4][1])  # 6\n",
        "\n",
        "# Accès à un élément d'un tuple\n",
        "print(my_list[6][0])  # 10\n",
        "\n",
        "# Accès à un élément d'un ensemble\n",
        "print(list(my_list[8])[0])  # 16\n",
        "\n",
        "# Accès à un élément d'un dictionnaire\n",
        "print(my_list[10][\"key2\"])  # 21"
      ],
      "metadata": {
        "id": "aeVIPO8I_K4G",
        "colab": {
          "base_uri": "https://localhost:8080/"
        },
        "outputId": "6720f587-cf85-4b84-8877-7f300b576701"
      },
      "execution_count": null,
      "outputs": [
        {
          "output_type": "stream",
          "name": "stdout",
          "text": [
            "1\n",
            "three\n",
            "6\n",
            "10\n",
            "16\n",
            "21\n"
          ]
        }
      ]
    },
    {
      "cell_type": "code",
      "source": [
        "# Création de la liste avec différents types d'éléments\n",
        "my_list = [1, 2, \"three\", \"four\", [5, 6], [7, 8, 9], (10, 11), (12, 13, 14), {15, 16}, {17, 18, 19}, {\"key1\": 20, \"key2\": 21}, {\"key3\": 22, \"key4\": 23, \"key5\": 24}]\n",
        "\n",
        "# Parcours de chaque élément de la liste et affichage de son type\n",
        "for element in my_list:\n",
        "    print(type(element))\n",
        "# Résultat attendu :\n",
        "# <class 'int'>\n",
        "# <class 'int'>\n",
        "# <class 'str'>\n",
        "# <class 'str'>\n",
        "# <class 'list'>\n",
        "# <class 'list'>\n",
        "# <class 'tuple'>\n",
        "# <class 'tuple'>\n",
        "# <class 'set'>\n",
        "# <class 'set'>\n",
        "# <class 'dict'>\n",
        "# <class 'dict'>"
      ],
      "metadata": {
        "id": "1ETO8WfN_hN7",
        "colab": {
          "base_uri": "https://localhost:8080/"
        },
        "outputId": "c4893678-3982-40b1-e968-4e7589f5e346"
      },
      "execution_count": null,
      "outputs": [
        {
          "output_type": "stream",
          "name": "stdout",
          "text": [
            "<class 'int'>\n",
            "<class 'int'>\n",
            "<class 'str'>\n",
            "<class 'str'>\n",
            "<class 'list'>\n",
            "<class 'list'>\n",
            "<class 'tuple'>\n",
            "<class 'tuple'>\n",
            "<class 'set'>\n",
            "<class 'set'>\n",
            "<class 'dict'>\n",
            "<class 'dict'>\n"
          ]
        }
      ]
    },
    {
      "cell_type": "code",
      "source": [
        "# Création de la liste avec différents types d'éléments\n",
        "my_list = [1, 2, \"three\", \"four\", [5, 6], [7, 8, 9], (10, 11), (12, 13, 14), {15, 16}, {17, 18, 19}, {\"key1\": 20, \"key2\": 21}, {\"key3\": 22, \"key4\": 23, \"key5\": 24}]\n",
        "\n",
        "# Parcours de chaque élément de la liste\n",
        "for element in my_list:\n",
        "    # Si l'élément est un tuple\n",
        "    if isinstance(element, tuple):\n",
        "        # Parcours de chaque élément du tuple\n",
        "        for item in element:\n",
        "            # Affichage du type de chaque élément du tuple\n",
        "            print(type(item))\n",
        "    # Si l'élément est une liste, un set ou un dictionnaire\n",
        "    elif isinstance(element, (list, set, dict)):\n",
        "        # Parcours de chaque élément de la liste, du set ou du dictionnaire\n",
        "        for item in element:\n",
        "            # Affichage du type de chaque élément de la liste, du set ou du dictionnaire\n",
        "            print(type(item))\n",
        "#imprime <class 'int'>\n",
        "#<class 'int'> <class 'str'> <class 'str'> <class 'int'> <class 'int'> <class 'int'> <class 'int'> <class 'int'> <class 'int'> <class 'int'>\n",
        "#<class 'int'> <class 'int'> <class 'int'> <class 'int'> <class 'int'> <class 'int'> <class 'int'> <class 'int'> <class 'int'>"
      ],
      "metadata": {
        "id": "OuYvbdpN_qfc",
        "colab": {
          "base_uri": "https://localhost:8080/"
        },
        "outputId": "4e01675a-54d4-412b-cdf3-3dea18bffd21"
      },
      "execution_count": null,
      "outputs": [
        {
          "output_type": "stream",
          "name": "stdout",
          "text": [
            "<class 'int'>\n",
            "<class 'int'>\n",
            "<class 'int'>\n",
            "<class 'int'>\n",
            "<class 'int'>\n",
            "<class 'int'>\n",
            "<class 'int'>\n",
            "<class 'int'>\n",
            "<class 'int'>\n",
            "<class 'int'>\n",
            "<class 'int'>\n",
            "<class 'int'>\n",
            "<class 'int'>\n",
            "<class 'int'>\n",
            "<class 'int'>\n",
            "<class 'str'>\n",
            "<class 'str'>\n",
            "<class 'str'>\n",
            "<class 'str'>\n",
            "<class 'str'>\n"
          ]
        }
      ]
    },
    {
      "cell_type": "markdown",
      "source": [
        "#2/SLICING#"
      ],
      "metadata": {
        "id": "qozM2TCzB-K6"
      }
    },
    {
      "cell_type": "code",
      "source": [
        "# Création de la liste avec 10 éléments\n",
        "my_list = [0, 1, 2, 3, 4, 5, 6, 7, 8, 9]\n",
        "\n",
        "# Slicing avec un seul indice - affiche les éléments à partir de l'indice spécifié jusqu'à la fin de la liste\n",
        "print(my_list[2:]) # [2, 3, 4, 5, 6, 7, 8, 9]\n",
        "\n",
        "# Slicing avec deux indices - affiche les éléments entre les deux indices spécifiés (exclus)\n",
        "print(my_list[2:6]) # [2, 3, 4, 5]\n",
        "\n",
        "# Slicing avec des indices négatifs - affiche les éléments à partir de la fin de la liste\n",
        "print(my_list[-3:]) # [7, 8, 9]\n",
        "\n",
        "# Slicing avec des pas - affiche les éléments en sautant des indices\n",
        "print(my_list[1:8:2]) # [1, 3, 5, 7]\n",
        "\n",
        "# Slicing avec des pas négatifs - affiche les éléments en sautant des indices dans l'ordre inverse\n",
        "print(my_list[::-1]) # [9, 8, 7, 6, 5, 4, 3, 2, 1, 0]\n"
      ],
      "metadata": {
        "id": "cvQ8Z8EjDEVk",
        "colab": {
          "base_uri": "https://localhost:8080/"
        },
        "outputId": "73bce683-8573-4a58-9d56-5549436daf86"
      },
      "execution_count": null,
      "outputs": [
        {
          "output_type": "stream",
          "name": "stdout",
          "text": [
            "[2, 3, 4, 5, 6, 7, 8, 9]\n",
            "[2, 3, 4, 5]\n",
            "[7, 8, 9]\n",
            "[1, 3, 5, 7]\n",
            "[9, 8, 7, 6, 5, 4, 3, 2, 1, 0]\n"
          ]
        }
      ]
    },
    {
      "cell_type": "markdown",
      "source": [
        "#3/ASSEMBLER DES LISTES#"
      ],
      "metadata": {
        "id": "3TJ34P1GDG9-"
      }
    },
    {
      "cell_type": "code",
      "source": [
        "# Création de la liste 1\n",
        "thislist = [\"apple\", \"banana\", \"cherry\"]\n",
        "\n",
        "# Création de la liste 2\n",
        "tropical = [\"mango\", \"pineapple\", \"papaya\"]\n",
        "\n",
        "# Utilisation de la méthode extend() pour ajouter les éléments de la liste 2 à la liste 1\n",
        "thislist.extend(tropical)\n",
        "\n",
        "print(thislist) # affiche [\"apple\", \"banana\", \"cherry\", \"mango\", \"pineapple\", \"papaya\"]\n",
        "\n",
        "\n",
        "# Création de la liste 1\n",
        "list1 = [\"a\", \"b\", \"c\"]\n",
        "\n",
        "# Création de la liste 2\n",
        "list2 = [1, 2, 3]\n",
        "\n",
        "# Boucle qui parcourt les éléments de la liste 2 et les ajoute à la liste 1 grâce à la méthode append()\n",
        "for x in list2:\n",
        "  list1.append(x)\n",
        "\n",
        "print(list1) # affiche [\"a\", \"b\", \"c\", 1, 2, 3]\n",
        "\n",
        "\n",
        "# Création de la liste 1\n",
        "list1 = [\"a\", \"b\", \"c\"]\n",
        "\n",
        "# Création de la liste 2\n",
        "list2 = [1, 2, 3]\n",
        "\n",
        "# Utilisation de l'opérateur + pour concaténer les deux listes et créer une troisième liste\n",
        "list3 = list1 + list2\n",
        "\n",
        "print(list3) # affiche [\"a\", \"b\", \"c\", 1, 2, 3]"
      ],
      "metadata": {
        "id": "dD9jNxe3DNLi",
        "colab": {
          "base_uri": "https://localhost:8080/"
        },
        "outputId": "0ad7b724-3e3c-43b8-e91d-987745c19774"
      },
      "execution_count": null,
      "outputs": [
        {
          "output_type": "stream",
          "name": "stdout",
          "text": [
            "['apple', 'banana', 'cherry', 'mango', 'pineapple', 'papaya']\n",
            "['a', 'b', 'c', 1, 2, 3]\n",
            "['a', 'b', 'c', 1, 2, 3]\n"
          ]
        }
      ]
    },
    {
      "cell_type": "markdown",
      "source": [
        "#4/REMPLACER DES ELEMENTS D UNE LISTE#"
      ],
      "metadata": {
        "id": "Oc5v-deXDloZ"
      }
    },
    {
      "cell_type": "code",
      "source": [
        "# Methode 1 : Changer un seul élément\n",
        "thislist = [\"apple\", \"banana\", \"cherry\"]\n",
        "thislist[1] = \"blackcurrant\"\n",
        "print(\"Methode 1 : Changer un seul element\\n\", thislist)\n",
        "# Affiche : Methode 1 : Changer un seul element\n",
        "#            ['apple', 'blackcurrant', 'cherry']\n",
        "\n",
        "\n",
        "# Methode 2 : Changer plusieurs éléments\n",
        "thislist = [\"apple\", \"banana\", \"cherry\", \"orange\", \"kiwi\", \"mango\"]\n",
        "thislist[1:3] = [\"blackcurrant\", \"watermelon\"]\n",
        "print(\"Methode 2 : Changer plusieurs elements\\n\", thislist)\n",
        "# Affiche : Methode 2 : Changer plusieurs elements\n",
        "#            ['apple', 'blackcurrant', 'watermelon', 'orange', 'kiwi', 'mango']\n",
        "\n",
        "\n",
        "# Methode 3 : Remplacer plusieurs éléments par un seul\n",
        "thislist = [\"apple\", \"banana\", \"cherry\", \"orange\", \"kiwi\", \"mango\"]\n",
        "thislist[1:3] = [\"watermelon\"]\n",
        "print(\"Methode 3 : Remplacer plusieurs elements par un seul\\n\", thislist)\n",
        "# Affiche : Methode 3 : Remplacer plusieurs elements par un seul\n",
        "#            ['apple', 'watermelon', 'orange', 'kiwi', 'mango']\n",
        "\n",
        "\n",
        "# Methode 4 : Insérer un élément à un index donné\n",
        "thislist = [\"apple\", \"banana\", \"cherry\", \"orange\", \"kiwi\", \"mango\"]\n",
        "thislist.insert(2, \"watermelon\")\n",
        "print(\"Methode 4 : Inserer un element a un index donne\\n\", thislist)\n",
        "# Affiche : Methode 4 : Inserer un element a un index donne\n",
        "#            ['apple', 'banana', 'watermelon', 'cherry', 'orange', 'kiwi', 'mango']\n",
        "\n",
        "\n",
        "# Methode 5 : Insérer un élément à un index aléatoire\n",
        "import random\n",
        "\n",
        "test_list4 = [\"p\", \"y\", \"t\", \"h\", \"o\"]\n",
        "index = random.randint(0, len(test_list4))\n",
        "lettre_insertion = input(\"Element ? > \")\n",
        "test_list4.insert(index, lettre_insertion)\n",
        "print(\"Methode 5 : Inserer un element a un index aleatoire\\n\", test_list4)\n",
        "# Affiche : Methode 5 : Inserer un element a un index aleatoire\n",
        "#            ['p', 'y', 't', 'h', 'o', 'n'] (par exemple, si l'utilisateur choisit la lettre 'n')"
      ],
      "metadata": {
        "id": "gsr_jo__DpnG",
        "colab": {
          "base_uri": "https://localhost:8080/",
          "height": 711
        },
        "outputId": "816b472a-cb62-4d9c-de5c-7ac2dc11264a"
      },
      "execution_count": null,
      "outputs": [
        {
          "output_type": "error",
          "ename": "KeyboardInterrupt",
          "evalue": "ignored",
          "traceback": [
            "\u001b[0;31m---------------------------------------------------------------------------\u001b[0m",
            "\u001b[0;31mKeyboardInterrupt\u001b[0m                         Traceback (most recent call last)",
            "\u001b[0;32m<ipython-input-22-3a9664839ec1>\u001b[0m in \u001b[0;36m<cell line: 38>\u001b[0;34m()\u001b[0m\n\u001b[1;32m     36\u001b[0m \u001b[0mtest_list4\u001b[0m \u001b[0;34m=\u001b[0m \u001b[0;34m[\u001b[0m\u001b[0;34m\"p\"\u001b[0m\u001b[0;34m,\u001b[0m \u001b[0;34m\"y\"\u001b[0m\u001b[0;34m,\u001b[0m \u001b[0;34m\"t\"\u001b[0m\u001b[0;34m,\u001b[0m \u001b[0;34m\"h\"\u001b[0m\u001b[0;34m,\u001b[0m \u001b[0;34m\"o\"\u001b[0m\u001b[0;34m]\u001b[0m\u001b[0;34m\u001b[0m\u001b[0;34m\u001b[0m\u001b[0m\n\u001b[1;32m     37\u001b[0m \u001b[0mindex\u001b[0m \u001b[0;34m=\u001b[0m \u001b[0mrandom\u001b[0m\u001b[0;34m.\u001b[0m\u001b[0mrandint\u001b[0m\u001b[0;34m(\u001b[0m\u001b[0;36m0\u001b[0m\u001b[0;34m,\u001b[0m \u001b[0mlen\u001b[0m\u001b[0;34m(\u001b[0m\u001b[0mtest_list4\u001b[0m\u001b[0;34m)\u001b[0m\u001b[0;34m)\u001b[0m\u001b[0;34m\u001b[0m\u001b[0;34m\u001b[0m\u001b[0m\n\u001b[0;32m---> 38\u001b[0;31m \u001b[0mlettre_insertion\u001b[0m \u001b[0;34m=\u001b[0m \u001b[0minput\u001b[0m\u001b[0;34m(\u001b[0m\u001b[0;34m\"Element ? > \"\u001b[0m\u001b[0;34m)\u001b[0m\u001b[0;34m\u001b[0m\u001b[0;34m\u001b[0m\u001b[0m\n\u001b[0m\u001b[1;32m     39\u001b[0m \u001b[0mtest_list4\u001b[0m\u001b[0;34m.\u001b[0m\u001b[0minsert\u001b[0m\u001b[0;34m(\u001b[0m\u001b[0mindex\u001b[0m\u001b[0;34m,\u001b[0m \u001b[0mlettre_insertion\u001b[0m\u001b[0;34m)\u001b[0m\u001b[0;34m\u001b[0m\u001b[0;34m\u001b[0m\u001b[0m\n\u001b[1;32m     40\u001b[0m \u001b[0mprint\u001b[0m\u001b[0;34m(\u001b[0m\u001b[0;34m\"Methode 5 : Inserer un element a un index aleatoire\\n\"\u001b[0m\u001b[0;34m,\u001b[0m \u001b[0mtest_list4\u001b[0m\u001b[0;34m)\u001b[0m\u001b[0;34m\u001b[0m\u001b[0;34m\u001b[0m\u001b[0m\n",
            "\u001b[0;32m/usr/local/lib/python3.10/dist-packages/ipykernel/kernelbase.py\u001b[0m in \u001b[0;36mraw_input\u001b[0;34m(self, prompt)\u001b[0m\n\u001b[1;32m    849\u001b[0m                 \u001b[0;34m\"raw_input was called, but this frontend does not support input requests.\"\u001b[0m\u001b[0;34m\u001b[0m\u001b[0;34m\u001b[0m\u001b[0m\n\u001b[1;32m    850\u001b[0m             )\n\u001b[0;32m--> 851\u001b[0;31m         return self._input_request(str(prompt),\n\u001b[0m\u001b[1;32m    852\u001b[0m             \u001b[0mself\u001b[0m\u001b[0;34m.\u001b[0m\u001b[0m_parent_ident\u001b[0m\u001b[0;34m,\u001b[0m\u001b[0;34m\u001b[0m\u001b[0;34m\u001b[0m\u001b[0m\n\u001b[1;32m    853\u001b[0m             \u001b[0mself\u001b[0m\u001b[0;34m.\u001b[0m\u001b[0m_parent_header\u001b[0m\u001b[0;34m,\u001b[0m\u001b[0;34m\u001b[0m\u001b[0;34m\u001b[0m\u001b[0m\n",
            "\u001b[0;32m/usr/local/lib/python3.10/dist-packages/ipykernel/kernelbase.py\u001b[0m in \u001b[0;36m_input_request\u001b[0;34m(self, prompt, ident, parent, password)\u001b[0m\n\u001b[1;32m    893\u001b[0m             \u001b[0;32mexcept\u001b[0m \u001b[0mKeyboardInterrupt\u001b[0m\u001b[0;34m:\u001b[0m\u001b[0;34m\u001b[0m\u001b[0;34m\u001b[0m\u001b[0m\n\u001b[1;32m    894\u001b[0m                 \u001b[0;31m# re-raise KeyboardInterrupt, to truncate traceback\u001b[0m\u001b[0;34m\u001b[0m\u001b[0;34m\u001b[0m\u001b[0m\n\u001b[0;32m--> 895\u001b[0;31m                 \u001b[0;32mraise\u001b[0m \u001b[0mKeyboardInterrupt\u001b[0m\u001b[0;34m(\u001b[0m\u001b[0;34m\"Interrupted by user\"\u001b[0m\u001b[0;34m)\u001b[0m \u001b[0;32mfrom\u001b[0m \u001b[0;32mNone\u001b[0m\u001b[0;34m\u001b[0m\u001b[0;34m\u001b[0m\u001b[0m\n\u001b[0m\u001b[1;32m    896\u001b[0m             \u001b[0;32mexcept\u001b[0m \u001b[0mException\u001b[0m \u001b[0;32mas\u001b[0m \u001b[0me\u001b[0m\u001b[0;34m:\u001b[0m\u001b[0;34m\u001b[0m\u001b[0;34m\u001b[0m\u001b[0m\n\u001b[1;32m    897\u001b[0m                 \u001b[0mself\u001b[0m\u001b[0;34m.\u001b[0m\u001b[0mlog\u001b[0m\u001b[0;34m.\u001b[0m\u001b[0mwarning\u001b[0m\u001b[0;34m(\u001b[0m\u001b[0;34m\"Invalid Message:\"\u001b[0m\u001b[0;34m,\u001b[0m \u001b[0mexc_info\u001b[0m\u001b[0;34m=\u001b[0m\u001b[0;32mTrue\u001b[0m\u001b[0;34m)\u001b[0m\u001b[0;34m\u001b[0m\u001b[0;34m\u001b[0m\u001b[0m\n",
            "\u001b[0;31mKeyboardInterrupt\u001b[0m: Interrupted by user"
          ]
        }
      ]
    },
    {
      "cell_type": "markdown",
      "source": [
        "#5/METHODES DES LISTES#"
      ],
      "metadata": {
        "id": "l6xUmdNGEnaa"
      }
    },
    {
      "cell_type": "code",
      "source": [
        "import random\n",
        "\n",
        "# Création d'une liste\n",
        "fruits = [\"apple\", \"banana\", \"cherry\", \"banana\", \"orange\"]\n",
        "\n",
        "# METHODE APPEND\n",
        "fruits.append(\"kiwi\") # Ajoute un élément à la fin de la liste\n",
        "print(fruits) # Affiche ['apple', 'banana', 'cherry', 'banana', 'orange', 'kiwi']\n",
        "\n",
        "# METHODE CLEAR\n",
        "fruits.clear() # Vide la liste\n",
        "print(fruits) # Affiche []\n",
        "\n",
        "# Remplissage de la liste avec de nouveaux éléments\n",
        "fruits = [\"apple\", \"banana\", \"cherry\", \"banana\", \"orange\"]\n",
        "\n",
        "# METHODE COPY\n",
        "new_fruits = fruits.copy() # Copie la liste dans une nouvelle liste\n",
        "print(new_fruits) # Affiche ['apple', 'banana', 'cherry', 'banana', 'orange']\n",
        "\n",
        "# METHODE COUNT\n",
        "count = fruits.count(\"banana\") # Compte le nombre d'éléments \"banana\" dans la liste\n",
        "print(count) # Affiche 2\n",
        "\n",
        "# METHODE DEL\n",
        "del fruits[2] # Supprime l'élément à l'index 2 de la liste\n",
        "print(fruits) # Affiche ['apple', 'banana', 'banana', 'orange']\n",
        "\n",
        "# METHODE ENUMERATE\n",
        "for index, fruit in enumerate(fruits): # Parcours la liste et retourne un tuple avec l'indice et l'élément correspondant\n",
        "  print(index, fruit) # Affiche 0 apple, 1 banana, 2 banana, 3 orange\n",
        "\n",
        "# METHODE EXTEND\n",
        "tropical_fruits = [\"mango\", \"pineapple\", \"papaya\"]\n",
        "fruits.extend(tropical_fruits) # Ajoute les éléments de la liste tropical_fruits à la fin de la liste fruits\n",
        "print(fruits) # Affiche ['apple', 'banana', 'banana', 'orange', 'mango', 'pineapple', 'papaya']\n",
        "\n",
        "# METHODE INDEX\n",
        "index = fruits.index(\"banana\") # Renvoie l'indice de la première occurrence de l'élément \"banana\"\n",
        "print(index) # Affiche 1\n",
        "\n",
        "# METHODE INSERT\n",
        "fruits.insert(2, \"watermelon\") # Insère l'élément \"watermelon\" à l'index 2 de la liste\n",
        "print(fruits) # Affiche ['apple', 'banana', 'watermelon', 'banana', 'orange', 'mango', 'pineapple', 'papaya']\n",
        "\n",
        "# METHODE LEN\n",
        "length = len(fruits) # Renvoie la longueur de la liste\n",
        "print(length) # Affiche 8\n",
        "\n",
        "# METHODE LOWER\n",
        "fruits_lower = [fruit.lower() for fruit in fruits] # Crée une nouvelle liste avec tous les éléments en minuscules\n",
        "print(fruits_lower) # Affiche ['apple', 'banana', 'watermelon', 'banana', 'orange', 'mango', 'pineapple', 'papaya']\n",
        "\n",
        "# METHODE POP\n",
        "popped_fruit = fruits.pop() # Retire et renvoie le dernier élément de la liste\n",
        "print(popped_fruit) # Affiche papaya\n",
        "print(fruits) # Affiche ['apple', 'banana', 'watermelon', 'banana', 'orange', 'mango', 'pineapple']\n",
        "\n",
        "# METHODE RANDOM.RANDINT\n",
        "random_index = random.randint(0, len(fruits)-1) # Génère un index aléatoire dans la plage d'index de la"
      ],
      "metadata": {
        "id": "v0HUeC3QEsZF",
        "colab": {
          "base_uri": "https://localhost:8080/"
        },
        "outputId": "b59ce4ea-ce32-4fdd-92f7-f42764b7ef5e"
      },
      "execution_count": null,
      "outputs": [
        {
          "output_type": "stream",
          "name": "stdout",
          "text": [
            "['apple', 'banana', 'cherry', 'banana', 'orange', 'kiwi']\n",
            "[]\n",
            "['apple', 'banana', 'cherry', 'banana', 'orange']\n",
            "2\n",
            "['apple', 'banana', 'banana', 'orange']\n",
            "0 apple\n",
            "1 banana\n",
            "2 banana\n",
            "3 orange\n",
            "['apple', 'banana', 'banana', 'orange', 'mango', 'pineapple', 'papaya']\n",
            "1\n",
            "['apple', 'banana', 'watermelon', 'banana', 'orange', 'mango', 'pineapple', 'papaya']\n",
            "8\n",
            "['apple', 'banana', 'watermelon', 'banana', 'orange', 'mango', 'pineapple', 'papaya']\n",
            "papaya\n",
            "['apple', 'banana', 'watermelon', 'banana', 'orange', 'mango', 'pineapple']\n"
          ]
        }
      ]
    },
    {
      "cell_type": "markdown",
      "source": [
        "#6/BOUCLES POSSIBLES SUR DES LISTES#"
      ],
      "metadata": {
        "id": "q7aNjdoeEt1w"
      }
    },
    {
      "cell_type": "code",
      "source": [
        "# Liste de fruits\n",
        "fruits = [\"apple\", \"banana\", \"cherry\", \"kiwi\", \"mango\"]\n",
        "\n",
        "# Imprimer tous les éléments de la liste verticalement par une boucle qui parcourt les éléments\n",
        "print(\"Imprimer tous les éléments de la liste verticalement par une boucle qui parcourt les éléments:\")\n",
        "for elt in fruits:\n",
        "  print(elt)\n",
        "\n",
        "# Imprimer tous les éléments de la liste à la verticale par une boucle qui parcourt tous les index\n",
        "print(\"\\nImprimer tous les éléments de la liste à la verticale par une boucle qui parcourt tous les index:\")\n",
        "for ind in range(len(fruits)):\n",
        "  print(fruits[ind])\n",
        "\n",
        "# Imprimer tous les éléments de la liste à des index choisis à la verticale\n",
        "print(\"\\nImprimer tous les éléments de la liste à des index choisis à la verticale:\")\n",
        "for elt in range(0, 2):\n",
        "  print(fruits[elt])\n",
        "\n",
        "# Créer une nouvelle liste avec tous les mots de la première liste contenant une lettre choisie\n",
        "print(\"\\nCréer une nouvelle liste avec tous les mots de la première liste contenant une lettre choisie:\")\n",
        "newlist = []\n",
        "for elt in fruits:\n",
        "  if \"a\" in elt:\n",
        "    newlist.append(elt)\n",
        "print(newlist)\n",
        "\n",
        "# Créer une nouvelle liste sans le ou les éléments choisis\n",
        "print(\"\\nCréer une nouvelle liste sans le ou les éléments choisis:\")\n",
        "newlist =[]\n",
        "for elt in fruits:\n",
        "  if elt != \"apple\":\n",
        "    newlist.append(elt)\n",
        "print(newlist)\n",
        "\n",
        "# Créer des listes successives numériques +1 sur chaque liste créée dans une plage de X à Y exclu dans range(x, Y)\n",
        "print(\"\\nCréer des listes successives numériques +1 sur chaque liste créée dans une plage de X à Y exclu dans range(x, Y):\")\n",
        "newlist = []\n",
        "for elt in range(10):\n",
        "  newlist.append(elt)\n",
        "  print(newlist)\n",
        "\n",
        "# Boucle while qui parcourt tous les index pour imprimer tous les éléments\n",
        "print(\"\\nBoucle while qui parcourt tous les index pour imprimer tous les éléments:\")\n",
        "thislist = [\"apple\", \"banana\", \"cherry\"]\n",
        "i = 0\n",
        "while i < len(thislist):\n",
        "  print(thislist[i])\n",
        "  i+=1"
      ],
      "metadata": {
        "id": "5MHp45T2FMCi",
        "colab": {
          "base_uri": "https://localhost:8080/"
        },
        "outputId": "597b7df5-e47d-4b10-ccc1-7f84abf36a8a"
      },
      "execution_count": null,
      "outputs": [
        {
          "output_type": "stream",
          "name": "stdout",
          "text": [
            "Imprimer tous les éléments de la liste verticalement par une boucle qui parcourt les éléments:\n",
            "apple\n",
            "banana\n",
            "cherry\n",
            "kiwi\n",
            "mango\n",
            "\n",
            "Imprimer tous les éléments de la liste à la verticale par une boucle qui parcourt tous les index:\n",
            "apple\n",
            "banana\n",
            "cherry\n",
            "kiwi\n",
            "mango\n",
            "\n",
            "Imprimer tous les éléments de la liste à des index choisis à la verticale:\n",
            "apple\n",
            "banana\n",
            "\n",
            "Créer une nouvelle liste avec tous les mots de la première liste contenant une lettre choisie:\n",
            "['apple', 'banana', 'mango']\n",
            "\n",
            "Créer une nouvelle liste sans le ou les éléments choisis:\n",
            "['banana', 'cherry', 'kiwi', 'mango']\n",
            "\n",
            "Créer des listes successives numériques +1 sur chaque liste créée dans une plage de X à Y exclu dans range(x, Y):\n",
            "[0]\n",
            "[0, 1]\n",
            "[0, 1, 2]\n",
            "[0, 1, 2, 3]\n",
            "[0, 1, 2, 3, 4]\n",
            "[0, 1, 2, 3, 4, 5]\n",
            "[0, 1, 2, 3, 4, 5, 6]\n",
            "[0, 1, 2, 3, 4, 5, 6, 7]\n",
            "[0, 1, 2, 3, 4, 5, 6, 7, 8]\n",
            "[0, 1, 2, 3, 4, 5, 6, 7, 8, 9]\n",
            "\n",
            "Boucle while qui parcourt tous les index pour imprimer tous les éléments:\n",
            "apple\n",
            "banana\n",
            "cherry\n"
          ]
        }
      ]
    },
    {
      "cell_type": "markdown",
      "source": [
        "#7/DEBALLAGE#"
      ],
      "metadata": {
        "id": "zvY3vw5MNDRh"
      }
    },
    {
      "cell_type": "code",
      "source": [
        "# Création d'une liste de fruits\n",
        "fruits = [\"apple\", \"banana\", \"cherry\"]\n",
        "\n",
        "# Impression de la liste de fruits\n",
        "print(fruits)#[\"apple\", \"banana\", \"cherry\"]"
      ],
      "metadata": {
        "id": "NM2WmRriNHHV",
        "colab": {
          "base_uri": "https://localhost:8080/"
        },
        "outputId": "ac7eba6d-aa05-4566-d769-0866a111640c"
      },
      "execution_count": null,
      "outputs": [
        {
          "output_type": "stream",
          "name": "stdout",
          "text": [
            "['apple', 'banana', 'cherry']\n"
          ]
        }
      ]
    },
    {
      "cell_type": "code",
      "source": [
        "# Définition de la liste de fruits\n",
        "fruits = [\"apple\", \"banana\", \"cherry\"]\n",
        "\n",
        "# Déballage des fruits en utilisant des critères généraux\n",
        "[green, yellow, *red] = fruits\n",
        "\n",
        "# Impression des éléments des critères choisis: couleurs\n",
        "print(green)\n",
        "print(yellow)\n",
        "print(red)\n",
        "#IMPRIME\n",
        "#apple\n",
        "#banana\n",
        "#['cherry']"
      ],
      "metadata": {
        "id": "zlBf1-TJNPqt",
        "colab": {
          "base_uri": "https://localhost:8080/"
        },
        "outputId": "9b47a68f-f57f-4d6e-ce9a-aa4b348ce1e7"
      },
      "execution_count": null,
      "outputs": [
        {
          "output_type": "stream",
          "name": "stdout",
          "text": [
            "apple\n",
            "banana\n",
            "['cherry']\n"
          ]
        }
      ]
    },
    {
      "cell_type": "code",
      "source": [
        "# Définition de la liste de fruits\n",
        "fruits = [\"apple\", \"banana\", \"cherry\", \"strawberry\", \"raspberry\"]\n",
        "\n",
        "# Déballage des fruits en utilisant des critères de couleur et une liste \"autres\" pour les éléments restants\n",
        "[green, yellow, *autres] = fruits\n",
        "\n",
        "# Impression des éléments des critères choisis couleurs + les elements restants\n",
        "print(green)\n",
        "print(yellow)\n",
        "print(autres)\n",
        "\n",
        "#imprime\n",
        "#apple\n",
        "#banana\n",
        "#['cherry', 'strawberry', 'raspberry']"
      ],
      "metadata": {
        "id": "qTdz4HNBNP7S",
        "colab": {
          "base_uri": "https://localhost:8080/"
        },
        "outputId": "cc2fe50d-8db8-47d3-e3e0-9ae49b36a2c7"
      },
      "execution_count": null,
      "outputs": [
        {
          "output_type": "stream",
          "name": "stdout",
          "text": [
            "apple\n",
            "banana\n",
            "['cherry', 'strawberry', 'raspberry']\n"
          ]
        }
      ]
    },
    {
      "cell_type": "code",
      "source": [
        "# Définition de la liste de fruits\n",
        "fruits = [\"apple\", \"mango\", \"papaya\", \"pineapple\", \"cherry\"]\n",
        "\n",
        "# Déballage des fruits en utilisant des critères de couleur et une liste \"tropic\" pour les éléments restants\n",
        "[green, *tropic, red] = fruits\n",
        "\n",
        "# Impression des éléments des critères choisis couleur et type de fruits\n",
        "print(green)\n",
        "print(tropic)\n",
        "print(red)\n",
        "\n",
        "#imprime apple\n",
        "#['mango', 'papaya', 'pineapple']\n",
        "#cherry"
      ],
      "metadata": {
        "id": "ya4-AKw9NpFI",
        "colab": {
          "base_uri": "https://localhost:8080/"
        },
        "outputId": "cc323339-dc86-46de-9c95-6ceb025bf6c1"
      },
      "execution_count": null,
      "outputs": [
        {
          "output_type": "stream",
          "name": "stdout",
          "text": [
            "apple\n",
            "['mango', 'papaya', 'pineapple']\n",
            "cherry\n"
          ]
        }
      ]
    }
  ]
}